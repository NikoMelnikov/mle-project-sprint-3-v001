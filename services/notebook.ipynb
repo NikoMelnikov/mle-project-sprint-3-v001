{
 "cells": [
  {
   "cell_type": "code",
   "execution_count": 15,
   "metadata": {},
   "outputs": [],
   "source": [
    "import os\n",
    "#import mlflow\n",
    "import yaml\n",
    "import time\n",
    "import optuna\n",
    "import psycopg2 as psycopg\n",
    "import pandas as pd\n",
    "import numpy as np\n",
    "from sklearn.compose import ColumnTransformer\n",
    "from sklearn.pipeline import Pipeline\n",
    "from optuna.samplers import TPESampler\n",
    "from sklearn.model_selection import train_test_split\n",
    "from sklearn.metrics import mean_absolute_error, mean_squared_error, r2_score\n",
    "from sklearn.impute import SimpleImputer\n",
    "from optuna import distributions\n",
    "from optuna.integration import OptunaSearchCV\n",
    "from catboost import CatBoostRegressor\n",
    "from sklearn.preprocessing import FunctionTransformer\n",
    "\n",
    "TABLE_NAME = \"flat_cleaned_churn\"\n",
    "RANDOM_STATE = 42"
   ]
  },
  {
   "cell_type": "code",
   "execution_count": 16,
   "metadata": {},
   "outputs": [],
   "source": [
    "#Создаю необходимые соединения\n",
    "\n",
    "os.environ[\"MLFLOW_S3_ENDPOINT_URL\"] = \"https://storage.yandexcloud.net\"\n",
    "os.environ[\"AWS_ACCESS_KEY_ID\"] = os.getenv(\"AWS_ACCESS_KEY_ID\")\n",
    "os.environ[\"AWS_SECRET_ACCESS_KEY\"] =  os.getenv(\"AWS_SECRET_ACCESS_KEY\")\n",
    "\n",
    "TRACKING_SERVER_HOST = \"127.0.0.1\"\n",
    "TRACKING_SERVER_PORT = 5000\n",
    "\n",
    "# Установка URI для tracking и registry\n",
    "#mlflow.set_tracking_uri(f\"http://{TRACKING_SERVER_HOST}:{TRACKING_SERVER_PORT}\")\n",
    "#mlflow.set_registry_uri(f\"http://{TRACKING_SERVER_HOST}:{TRACKING_SERVER_PORT}\")\n",
    "\n",
    "connection = {\"sslmode\": \"require\", \"target_session_attrs\": \"read-write\"}\n",
    "postgres_credentials = {\n",
    "    \"host\": os.getenv(\"DB_DESTINATION_HOST\"),\n",
    "    \"port\": os.getenv(\"DB_DESTINATION_PORT\"),\n",
    "    \"dbname\": os.getenv(\"DB_DESTINATION_NAME\"),\n",
    "    \"user\": os.getenv(\"DB_DESTINATION_USER\"),\n",
    "    \"password\": os.getenv(\"DB_DESTINATION_PASSWORD\"),\n",
    "}\n",
    "assert all([var_value != \"\" for var_value in list(postgres_credentials.values())])\n",
    "\n",
    "connection.update(postgres_credentials)\n",
    "\n",
    "with psycopg.connect(**connection) as conn:\n",
    "    with conn.cursor() as cur:\n",
    "        cur.execute(f\"SELECT * FROM {TABLE_NAME}\")\n",
    "        data = cur.fetchall()\n",
    "        columns = [col[0] for col in cur.description]"
   ]
  },
  {
   "cell_type": "code",
   "execution_count": 25,
   "metadata": {},
   "outputs": [],
   "source": [
    "EXPERIMENT_NAME = \"Final prod improved model\"\n",
    "RUN_NAME = \"Nick_project_prod_model\"\n",
    "REGISTRY_MODEL_NAME = 'CBR_model_prod'"
   ]
  },
  {
   "cell_type": "code",
   "execution_count": 17,
   "metadata": {},
   "outputs": [],
   "source": [
    "#Загружаю необходимые артефакты.\n",
    "\n",
    "df = pd.DataFrame(data, columns=columns)\n",
    "\n",
    "columns_list = df.columns.tolist()\n",
    "columns_text = \",\".join(columns_list) \n",
    "with open(\"columns.txt\", \"w\", encoding=\"utf-8\") as fio:\n",
    "    fio.write(columns_text)\n",
    "    \n",
    "df.to_csv(\"flat_cleaned_churn\", index=False) \n"
   ]
  },
  {
   "cell_type": "code",
   "execution_count": 18,
   "metadata": {},
   "outputs": [
    {
     "data": {
      "text/html": [
       "<div>\n",
       "<style scoped>\n",
       "    .dataframe tbody tr th:only-of-type {\n",
       "        vertical-align: middle;\n",
       "    }\n",
       "\n",
       "    .dataframe tbody tr th {\n",
       "        vertical-align: top;\n",
       "    }\n",
       "\n",
       "    .dataframe thead th {\n",
       "        text-align: right;\n",
       "    }\n",
       "</style>\n",
       "<table border=\"1\" class=\"dataframe\">\n",
       "  <thead>\n",
       "    <tr style=\"text-align: right;\">\n",
       "      <th></th>\n",
       "      <th>id</th>\n",
       "      <th>build_id</th>\n",
       "      <th>build_year</th>\n",
       "      <th>building_type_int</th>\n",
       "      <th>latitude</th>\n",
       "      <th>longitude</th>\n",
       "      <th>ceiling_height</th>\n",
       "      <th>flats_count</th>\n",
       "      <th>floors_total</th>\n",
       "      <th>has_elevator</th>\n",
       "      <th>floor</th>\n",
       "      <th>kitchen_area</th>\n",
       "      <th>living_area</th>\n",
       "      <th>rooms</th>\n",
       "      <th>is_apartment</th>\n",
       "      <th>studio</th>\n",
       "      <th>total_area</th>\n",
       "      <th>target</th>\n",
       "    </tr>\n",
       "  </thead>\n",
       "  <tbody>\n",
       "    <tr>\n",
       "      <th>0</th>\n",
       "      <td>1</td>\n",
       "      <td>16093</td>\n",
       "      <td>1994-01-01</td>\n",
       "      <td>4</td>\n",
       "      <td>55.834713</td>\n",
       "      <td>37.448383</td>\n",
       "      <td>2.64</td>\n",
       "      <td>204</td>\n",
       "      <td>17</td>\n",
       "      <td>true</td>\n",
       "      <td>16</td>\n",
       "      <td>10.10</td>\n",
       "      <td>44.799999</td>\n",
       "      <td>3</td>\n",
       "      <td>false</td>\n",
       "      <td>false</td>\n",
       "      <td>73.800003</td>\n",
       "      <td>13390000.0</td>\n",
       "    </tr>\n",
       "    <tr>\n",
       "      <th>1</th>\n",
       "      <td>2</td>\n",
       "      <td>3104</td>\n",
       "      <td>1960-01-01</td>\n",
       "      <td>1</td>\n",
       "      <td>55.701302</td>\n",
       "      <td>37.738918</td>\n",
       "      <td>2.80</td>\n",
       "      <td>20</td>\n",
       "      <td>5</td>\n",
       "      <td>false</td>\n",
       "      <td>1</td>\n",
       "      <td>6.00</td>\n",
       "      <td>16.500000</td>\n",
       "      <td>1</td>\n",
       "      <td>false</td>\n",
       "      <td>false</td>\n",
       "      <td>32.000000</td>\n",
       "      <td>5500000.0</td>\n",
       "    </tr>\n",
       "    <tr>\n",
       "      <th>2</th>\n",
       "      <td>3</td>\n",
       "      <td>11876</td>\n",
       "      <td>1977-01-01</td>\n",
       "      <td>0</td>\n",
       "      <td>55.851589</td>\n",
       "      <td>37.416008</td>\n",
       "      <td>2.48</td>\n",
       "      <td>168</td>\n",
       "      <td>12</td>\n",
       "      <td>true</td>\n",
       "      <td>9</td>\n",
       "      <td>10.30</td>\n",
       "      <td>44.000000</td>\n",
       "      <td>3</td>\n",
       "      <td>false</td>\n",
       "      <td>false</td>\n",
       "      <td>66.000000</td>\n",
       "      <td>9500000.0</td>\n",
       "    </tr>\n",
       "    <tr>\n",
       "      <th>3</th>\n",
       "      <td>4</td>\n",
       "      <td>9212</td>\n",
       "      <td>1970-01-01</td>\n",
       "      <td>6</td>\n",
       "      <td>55.876389</td>\n",
       "      <td>37.716415</td>\n",
       "      <td>2.64</td>\n",
       "      <td>98</td>\n",
       "      <td>9</td>\n",
       "      <td>true</td>\n",
       "      <td>5</td>\n",
       "      <td>6.50</td>\n",
       "      <td>28.000000</td>\n",
       "      <td>2</td>\n",
       "      <td>false</td>\n",
       "      <td>false</td>\n",
       "      <td>40.000000</td>\n",
       "      <td>9950000.0</td>\n",
       "    </tr>\n",
       "    <tr>\n",
       "      <th>4</th>\n",
       "      <td>5</td>\n",
       "      <td>22817</td>\n",
       "      <td>2014-01-01</td>\n",
       "      <td>4</td>\n",
       "      <td>55.734455</td>\n",
       "      <td>37.412422</td>\n",
       "      <td>2.64</td>\n",
       "      <td>274</td>\n",
       "      <td>10</td>\n",
       "      <td>true</td>\n",
       "      <td>9</td>\n",
       "      <td>10.08</td>\n",
       "      <td>45.720001</td>\n",
       "      <td>3</td>\n",
       "      <td>false</td>\n",
       "      <td>false</td>\n",
       "      <td>75.099998</td>\n",
       "      <td>18500000.0</td>\n",
       "    </tr>\n",
       "  </tbody>\n",
       "</table>\n",
       "</div>"
      ],
      "text/plain": [
       "   id  build_id build_year building_type_int   latitude  longitude  \\\n",
       "0   1     16093 1994-01-01                 4  55.834713  37.448383   \n",
       "1   2      3104 1960-01-01                 1  55.701302  37.738918   \n",
       "2   3     11876 1977-01-01                 0  55.851589  37.416008   \n",
       "3   4      9212 1970-01-01                 6  55.876389  37.716415   \n",
       "4   5     22817 2014-01-01                 4  55.734455  37.412422   \n",
       "\n",
       "   ceiling_height  flats_count  floors_total has_elevator  floor  \\\n",
       "0            2.64          204            17         true     16   \n",
       "1            2.80           20             5        false      1   \n",
       "2            2.48          168            12         true      9   \n",
       "3            2.64           98             9         true      5   \n",
       "4            2.64          274            10         true      9   \n",
       "\n",
       "   kitchen_area  living_area  rooms is_apartment studio  total_area  \\\n",
       "0         10.10    44.799999      3        false  false   73.800003   \n",
       "1          6.00    16.500000      1        false  false   32.000000   \n",
       "2         10.30    44.000000      3        false  false   66.000000   \n",
       "3          6.50    28.000000      2        false  false   40.000000   \n",
       "4         10.08    45.720001      3        false  false   75.099998   \n",
       "\n",
       "       target  \n",
       "0  13390000.0  \n",
       "1   5500000.0  \n",
       "2   9500000.0  \n",
       "3   9950000.0  \n",
       "4  18500000.0  "
      ]
     },
     "execution_count": 18,
     "metadata": {},
     "output_type": "execute_result"
    }
   ],
   "source": [
    "df.head()"
   ]
  },
  {
   "cell_type": "code",
   "execution_count": 19,
   "metadata": {},
   "outputs": [],
   "source": [
    "#Функция для предобработки данных.\n",
    "\n",
    "def transform_data(df):\n",
    "    unique_counts = df.nunique()\n",
    "    columns_to_drop = unique_counts[unique_counts < 2].index\n",
    "    df = df.drop(columns=columns_to_drop)\n",
    "    \n",
    "    # Преобразование значений 'True' и 'False' в столбцах has_elevator и is_apartment в числовой формат\n",
    "    df['has_elevator'] = df['has_elevator'].str.lower().replace({'false': 0, 'true': 1}).astype(int)\n",
    "    df['building_type_int'] = df['building_type_int'].astype(int) #перевожу в числовой формат\n",
    "    df.drop('id', axis=1, inplace=True)\n",
    "    df.drop('build_id', axis=1, inplace=True)\n",
    "    df.drop('is_apartment', axis=1, inplace=True)\n",
    "    \n",
    "    df['build_year'] = pd.to_datetime(df['build_year']).dt.year\n",
    "    df['build_year'] = pd.to_numeric(df['build_year'], errors='coerce')\n",
    "    \n",
    "    return df"
   ]
  },
  {
   "cell_type": "code",
   "execution_count": 20,
   "metadata": {},
   "outputs": [
    {
     "name": "stderr",
     "output_type": "stream",
     "text": [
      "/tmp/ipykernel_27107/1559271895.py:9: FutureWarning: Downcasting behavior in `replace` is deprecated and will be removed in a future version. To retain the old behavior, explicitly call `result.infer_objects(copy=False)`. To opt-in to the future behavior, set `pd.set_option('future.no_silent_downcasting', True)`\n",
      "  df['has_elevator'] = df['has_elevator'].str.lower().replace({'false': 0, 'true': 1}).astype(int)\n"
     ]
    }
   ],
   "source": [
    "df = transform_data(df)"
   ]
  },
  {
   "cell_type": "code",
   "execution_count": 21,
   "metadata": {},
   "outputs": [
    {
     "data": {
      "text/html": [
       "<div>\n",
       "<style scoped>\n",
       "    .dataframe tbody tr th:only-of-type {\n",
       "        vertical-align: middle;\n",
       "    }\n",
       "\n",
       "    .dataframe tbody tr th {\n",
       "        vertical-align: top;\n",
       "    }\n",
       "\n",
       "    .dataframe thead th {\n",
       "        text-align: right;\n",
       "    }\n",
       "</style>\n",
       "<table border=\"1\" class=\"dataframe\">\n",
       "  <thead>\n",
       "    <tr style=\"text-align: right;\">\n",
       "      <th></th>\n",
       "      <th>build_year</th>\n",
       "      <th>building_type_int</th>\n",
       "      <th>latitude</th>\n",
       "      <th>longitude</th>\n",
       "      <th>ceiling_height</th>\n",
       "      <th>flats_count</th>\n",
       "      <th>floors_total</th>\n",
       "      <th>has_elevator</th>\n",
       "      <th>floor</th>\n",
       "      <th>kitchen_area</th>\n",
       "      <th>living_area</th>\n",
       "      <th>rooms</th>\n",
       "      <th>total_area</th>\n",
       "      <th>target</th>\n",
       "    </tr>\n",
       "  </thead>\n",
       "  <tbody>\n",
       "    <tr>\n",
       "      <th>0</th>\n",
       "      <td>1994</td>\n",
       "      <td>4</td>\n",
       "      <td>55.834713</td>\n",
       "      <td>37.448383</td>\n",
       "      <td>2.64</td>\n",
       "      <td>204</td>\n",
       "      <td>17</td>\n",
       "      <td>1</td>\n",
       "      <td>16</td>\n",
       "      <td>10.10</td>\n",
       "      <td>44.799999</td>\n",
       "      <td>3</td>\n",
       "      <td>73.800003</td>\n",
       "      <td>13390000.0</td>\n",
       "    </tr>\n",
       "    <tr>\n",
       "      <th>1</th>\n",
       "      <td>1960</td>\n",
       "      <td>1</td>\n",
       "      <td>55.701302</td>\n",
       "      <td>37.738918</td>\n",
       "      <td>2.80</td>\n",
       "      <td>20</td>\n",
       "      <td>5</td>\n",
       "      <td>0</td>\n",
       "      <td>1</td>\n",
       "      <td>6.00</td>\n",
       "      <td>16.500000</td>\n",
       "      <td>1</td>\n",
       "      <td>32.000000</td>\n",
       "      <td>5500000.0</td>\n",
       "    </tr>\n",
       "    <tr>\n",
       "      <th>2</th>\n",
       "      <td>1977</td>\n",
       "      <td>0</td>\n",
       "      <td>55.851589</td>\n",
       "      <td>37.416008</td>\n",
       "      <td>2.48</td>\n",
       "      <td>168</td>\n",
       "      <td>12</td>\n",
       "      <td>1</td>\n",
       "      <td>9</td>\n",
       "      <td>10.30</td>\n",
       "      <td>44.000000</td>\n",
       "      <td>3</td>\n",
       "      <td>66.000000</td>\n",
       "      <td>9500000.0</td>\n",
       "    </tr>\n",
       "    <tr>\n",
       "      <th>3</th>\n",
       "      <td>1970</td>\n",
       "      <td>6</td>\n",
       "      <td>55.876389</td>\n",
       "      <td>37.716415</td>\n",
       "      <td>2.64</td>\n",
       "      <td>98</td>\n",
       "      <td>9</td>\n",
       "      <td>1</td>\n",
       "      <td>5</td>\n",
       "      <td>6.50</td>\n",
       "      <td>28.000000</td>\n",
       "      <td>2</td>\n",
       "      <td>40.000000</td>\n",
       "      <td>9950000.0</td>\n",
       "    </tr>\n",
       "    <tr>\n",
       "      <th>4</th>\n",
       "      <td>2014</td>\n",
       "      <td>4</td>\n",
       "      <td>55.734455</td>\n",
       "      <td>37.412422</td>\n",
       "      <td>2.64</td>\n",
       "      <td>274</td>\n",
       "      <td>10</td>\n",
       "      <td>1</td>\n",
       "      <td>9</td>\n",
       "      <td>10.08</td>\n",
       "      <td>45.720001</td>\n",
       "      <td>3</td>\n",
       "      <td>75.099998</td>\n",
       "      <td>18500000.0</td>\n",
       "    </tr>\n",
       "  </tbody>\n",
       "</table>\n",
       "</div>"
      ],
      "text/plain": [
       "   build_year  building_type_int   latitude  longitude  ceiling_height  \\\n",
       "0        1994                  4  55.834713  37.448383            2.64   \n",
       "1        1960                  1  55.701302  37.738918            2.80   \n",
       "2        1977                  0  55.851589  37.416008            2.48   \n",
       "3        1970                  6  55.876389  37.716415            2.64   \n",
       "4        2014                  4  55.734455  37.412422            2.64   \n",
       "\n",
       "   flats_count  floors_total  has_elevator  floor  kitchen_area  living_area  \\\n",
       "0          204            17             1     16         10.10    44.799999   \n",
       "1           20             5             0      1          6.00    16.500000   \n",
       "2          168            12             1      9         10.30    44.000000   \n",
       "3           98             9             1      5          6.50    28.000000   \n",
       "4          274            10             1      9         10.08    45.720001   \n",
       "\n",
       "   rooms  total_area      target  \n",
       "0      3   73.800003  13390000.0  \n",
       "1      1   32.000000   5500000.0  \n",
       "2      3   66.000000   9500000.0  \n",
       "3      2   40.000000   9950000.0  \n",
       "4      3   75.099998  18500000.0  "
      ]
     },
     "execution_count": 21,
     "metadata": {},
     "output_type": "execute_result"
    }
   ],
   "source": [
    "df.head()"
   ]
  },
  {
   "cell_type": "code",
   "execution_count": 24,
   "metadata": {},
   "outputs": [
    {
     "name": "stdout",
     "output_type": "stream",
     "text": [
      "<class 'pandas.core.frame.DataFrame'>\n",
      "RangeIndex: 17521 entries, 0 to 17520\n",
      "Data columns (total 14 columns):\n",
      " #   Column             Non-Null Count  Dtype  \n",
      "---  ------             --------------  -----  \n",
      " 0   build_year         17521 non-null  int32  \n",
      " 1   building_type_int  17521 non-null  int64  \n",
      " 2   latitude           17521 non-null  float64\n",
      " 3   longitude          17521 non-null  float64\n",
      " 4   ceiling_height     17521 non-null  float64\n",
      " 5   flats_count        17521 non-null  int64  \n",
      " 6   floors_total       17521 non-null  int64  \n",
      " 7   has_elevator       17521 non-null  int64  \n",
      " 8   floor              17521 non-null  int64  \n",
      " 9   kitchen_area       17521 non-null  float64\n",
      " 10  living_area        17521 non-null  float64\n",
      " 11  rooms              17521 non-null  int64  \n",
      " 12  total_area         17521 non-null  float64\n",
      " 13  target             17521 non-null  float64\n",
      "dtypes: float64(7), int32(1), int64(6)\n",
      "memory usage: 1.8 MB\n"
     ]
    }
   ],
   "source": [
    "df.info()"
   ]
  },
  {
   "cell_type": "code",
   "execution_count": 29,
   "metadata": {},
   "outputs": [],
   "source": [
    "X_example = df.iloc[:50]"
   ]
  },
  {
   "cell_type": "code",
   "execution_count": 30,
   "metadata": {},
   "outputs": [
    {
     "name": "stderr",
     "output_type": "stream",
     "text": [
      "/tmp/ipykernel_27107/1422097860.py:1: SettingWithCopyWarning: \n",
      "A value is trying to be set on a copy of a slice from a DataFrame\n",
      "\n",
      "See the caveats in the documentation: https://pandas.pydata.org/pandas-docs/stable/user_guide/indexing.html#returning-a-view-versus-a-copy\n",
      "  X_example.drop('target', axis=1, inplace=True)\n"
     ]
    }
   ],
   "source": [
    "X_example.drop('target', axis=1, inplace=True)"
   ]
  },
  {
   "cell_type": "code",
   "execution_count": 31,
   "metadata": {},
   "outputs": [],
   "source": [
    "#Сохраню пример данных для последующего тестирования.\n",
    "X_example.to_csv('/home/mle-user/mle_projects/mle-project-sprint-3-v001/services/models/X_example.csv', index=False)"
   ]
  },
  {
   "cell_type": "code",
   "execution_count": 11,
   "metadata": {},
   "outputs": [],
   "source": [
    "#Закладываю функцию для категоризации по этажам\n",
    "\n",
    "def floor_category(X, **kwargs):\n",
    "    new_features = pd.DataFrame(index=X.index)\n",
    "    new_features['is_first_floor'] = (X['floor'] == 1).astype(int)\n",
    "    new_features['is_last_floor'] = (\n",
    "        (X['floor'] == X['floors_total']).astype('int')\n",
    "    )\n",
    "    new_features['floor_relative'] = X['floor'] / X['floors_total']\n",
    "    return new_features\n",
    "\n",
    "custom_features_transformer = FunctionTransformer(floor_category)"
   ]
  },
  {
   "cell_type": "code",
   "execution_count": 12,
   "metadata": {},
   "outputs": [],
   "source": [
    "#Формирую простой препроцессов в рамках которого будут заполнены пропущенные значения и квартиры категоризируются по этажности.\n",
    "\n",
    "preprocessor = ColumnTransformer([\n",
    "     ('fill_missing',  SimpleImputer(missing_values=0., strategy='median'), ['kitchen_area', 'living_area', 'total_area']),\n",
    "     ('floor_category', FunctionTransformer(floor_category), ['floor', 'floors_total'])], remainder='passthrough', verbose_feature_names_out=False).set_output(transform='pandas')"
   ]
  },
  {
   "cell_type": "code",
   "execution_count": 13,
   "metadata": {},
   "outputs": [],
   "source": [
    "#Формирую пайплайн\n",
    "\n",
    "cbr_model = Pipeline([\n",
    "    ('preprocessor', preprocessor),\n",
    "    ('model', CatBoostRegressor(random_state=RANDOM_STATE,\n",
    "                                verbose=False))\n",
    "])"
   ]
  },
  {
   "cell_type": "code",
   "execution_count": 9,
   "metadata": {},
   "outputs": [],
   "source": [
    "#модель без pipeline\n",
    "cbr_model = CatBoostRegressor(random_state=RANDOM_STATE,\n",
    "                                verbose=False)"
   ]
  },
  {
   "cell_type": "code",
   "execution_count": 32,
   "metadata": {},
   "outputs": [],
   "source": [
    "#Разделяю выборку\n",
    "\n",
    "X = df.drop('target', axis=1).copy()\n",
    "y = df['target'].copy()\n",
    "X_train, X_test, y_train, y_test = train_test_split(X, y, test_size=0.2, random_state=RANDOM_STATE)"
   ]
  },
  {
   "cell_type": "code",
   "execution_count": 11,
   "metadata": {},
   "outputs": [
    {
     "name": "stdout",
     "output_type": "stream",
     "text": [
      "<class 'pandas.core.frame.DataFrame'>\n",
      "RangeIndex: 17521 entries, 0 to 17520\n",
      "Data columns (total 13 columns):\n",
      " #   Column             Non-Null Count  Dtype  \n",
      "---  ------             --------------  -----  \n",
      " 0   build_year         17521 non-null  int32  \n",
      " 1   building_type_int  17521 non-null  int64  \n",
      " 2   latitude           17521 non-null  float64\n",
      " 3   longitude          17521 non-null  float64\n",
      " 4   ceiling_height     17521 non-null  float64\n",
      " 5   flats_count        17521 non-null  int64  \n",
      " 6   floors_total       17521 non-null  int64  \n",
      " 7   has_elevator       17521 non-null  int64  \n",
      " 8   floor              17521 non-null  int64  \n",
      " 9   kitchen_area       17521 non-null  float64\n",
      " 10  living_area        17521 non-null  float64\n",
      " 11  rooms              17521 non-null  int64  \n",
      " 12  total_area         17521 non-null  float64\n",
      "dtypes: float64(6), int32(1), int64(6)\n",
      "memory usage: 1.7 MB\n"
     ]
    }
   ],
   "source": [
    "X.info()"
   ]
  },
  {
   "cell_type": "code",
   "execution_count": 33,
   "metadata": {},
   "outputs": [
    {
     "name": "stderr",
     "output_type": "stream",
     "text": [
      "[I 2024-06-10 07:39:51,030] A new study created in memory with name: no-name-3776f7c1-3947-424d-81dc-726cebca7cbf\n",
      "/tmp/ipykernel_4813/2958324180.py:6: FutureWarning: suggest_loguniform has been deprecated in v3.0.0. This feature will be removed in v6.0.0. See https://github.com/optuna/optuna/releases/tag/v3.0.0. Use suggest_float(..., log=True) instead.\n",
      "  learning_rate = trial.suggest_loguniform('learning_rate', 0.001, 0.1)\n",
      "[I 2024-06-10 07:39:55,781] Trial 0 finished with value: 1797759.146962422 and parameters: {'iterations': 702, 'learning_rate': 0.03238141057510905, 'depth': 9}. Best is trial 0 with value: 1797759.146962422.\n",
      "/tmp/ipykernel_4813/2958324180.py:6: FutureWarning: suggest_loguniform has been deprecated in v3.0.0. This feature will be removed in v6.0.0. See https://github.com/optuna/optuna/releases/tag/v3.0.0. Use suggest_float(..., log=True) instead.\n",
      "  learning_rate = trial.suggest_loguniform('learning_rate', 0.001, 0.1)\n",
      "[I 2024-06-10 07:39:58,214] Trial 1 finished with value: 1912671.6642398322 and parameters: {'iterations': 1045, 'learning_rate': 0.0026099486911722197, 'depth': 6}. Best is trial 0 with value: 1797759.146962422.\n",
      "/tmp/ipykernel_4813/2958324180.py:6: FutureWarning: suggest_loguniform has been deprecated in v3.0.0. This feature will be removed in v6.0.0. See https://github.com/optuna/optuna/releases/tag/v3.0.0. Use suggest_float(..., log=True) instead.\n",
      "  learning_rate = trial.suggest_loguniform('learning_rate', 0.001, 0.1)\n",
      "[I 2024-06-10 07:40:01,824] Trial 2 finished with value: 1799790.1637715225 and parameters: {'iterations': 1164, 'learning_rate': 0.01901780873098694, 'depth': 7}. Best is trial 0 with value: 1797759.146962422.\n",
      "/tmp/ipykernel_4813/2958324180.py:6: FutureWarning: suggest_loguniform has been deprecated in v3.0.0. This feature will be removed in v6.0.0. See https://github.com/optuna/optuna/releases/tag/v3.0.0. Use suggest_float(..., log=True) instead.\n",
      "  learning_rate = trial.suggest_loguniform('learning_rate', 0.001, 0.1)\n",
      "[I 2024-06-10 07:40:13,140] Trial 3 finished with value: 1830756.2347795106 and parameters: {'iterations': 947, 'learning_rate': 0.004661233789373044, 'depth': 10}. Best is trial 0 with value: 1797759.146962422.\n",
      "/tmp/ipykernel_4813/2958324180.py:6: FutureWarning: suggest_loguniform has been deprecated in v3.0.0. This feature will be removed in v6.0.0. See https://github.com/optuna/optuna/releases/tag/v3.0.0. Use suggest_float(..., log=True) instead.\n",
      "  learning_rate = trial.suggest_loguniform('learning_rate', 0.001, 0.1)\n",
      "[I 2024-06-10 07:40:16,041] Trial 4 finished with value: 1800692.0760127618 and parameters: {'iterations': 985, 'learning_rate': 0.024147718696171702, 'depth': 7}. Best is trial 0 with value: 1797759.146962422.\n",
      "/tmp/ipykernel_4813/2958324180.py:6: FutureWarning: suggest_loguniform has been deprecated in v3.0.0. This feature will be removed in v6.0.0. See https://github.com/optuna/optuna/releases/tag/v3.0.0. Use suggest_float(..., log=True) instead.\n",
      "  learning_rate = trial.suggest_loguniform('learning_rate', 0.001, 0.1)\n",
      "[I 2024-06-10 07:40:17,277] Trial 5 finished with value: 1839437.8445678581 and parameters: {'iterations': 786, 'learning_rate': 0.012800979827296142, 'depth': 4}. Best is trial 0 with value: 1797759.146962422.\n",
      "/tmp/ipykernel_4813/2958324180.py:6: FutureWarning: suggest_loguniform has been deprecated in v3.0.0. This feature will be removed in v6.0.0. See https://github.com/optuna/optuna/releases/tag/v3.0.0. Use suggest_float(..., log=True) instead.\n",
      "  learning_rate = trial.suggest_loguniform('learning_rate', 0.001, 0.1)\n",
      "[I 2024-06-10 07:40:25,339] Trial 6 finished with value: 1803297.8682008043 and parameters: {'iterations': 682, 'learning_rate': 0.03175541624943847, 'depth': 10}. Best is trial 0 with value: 1797759.146962422.\n",
      "/tmp/ipykernel_4813/2958324180.py:6: FutureWarning: suggest_loguniform has been deprecated in v3.0.0. This feature will be removed in v6.0.0. See https://github.com/optuna/optuna/releases/tag/v3.0.0. Use suggest_float(..., log=True) instead.\n",
      "  learning_rate = trial.suggest_loguniform('learning_rate', 0.001, 0.1)\n",
      "[I 2024-06-10 07:40:27,435] Trial 7 finished with value: 1801777.6407904567 and parameters: {'iterations': 1172, 'learning_rate': 0.0871171434842578, 'depth': 5}. Best is trial 0 with value: 1797759.146962422.\n",
      "/tmp/ipykernel_4813/2958324180.py:6: FutureWarning: suggest_loguniform has been deprecated in v3.0.0. This feature will be removed in v6.0.0. See https://github.com/optuna/optuna/releases/tag/v3.0.0. Use suggest_float(..., log=True) instead.\n",
      "  learning_rate = trial.suggest_loguniform('learning_rate', 0.001, 0.1)\n",
      "[I 2024-06-10 07:40:41,170] Trial 8 finished with value: 1860074.0644798263 and parameters: {'iterations': 1168, 'learning_rate': 0.00256056359892837, 'depth': 10}. Best is trial 0 with value: 1797759.146962422.\n",
      "/tmp/ipykernel_4813/2958324180.py:6: FutureWarning: suggest_loguniform has been deprecated in v3.0.0. This feature will be removed in v6.0.0. See https://github.com/optuna/optuna/releases/tag/v3.0.0. Use suggest_float(..., log=True) instead.\n",
      "  learning_rate = trial.suggest_loguniform('learning_rate', 0.001, 0.1)\n",
      "[I 2024-06-10 07:40:45,571] Trial 9 finished with value: 1853236.0483200117 and parameters: {'iterations': 655, 'learning_rate': 0.005052598828233548, 'depth': 9}. Best is trial 0 with value: 1797759.146962422.\n"
     ]
    },
    {
     "name": "stdout",
     "output_type": "stream",
     "text": [
      "{'iterations': 702, 'learning_rate': 0.03238141057510905, 'depth': 9}\n"
     ]
    }
   ],
   "source": [
    "from catboost import CatBoostRegressor\n",
    "import optuna\n",
    "\n",
    "#Запускаю голосование\n",
    "def objective(trial):\n",
    "    iterations = trial.suggest_int('iterations', 600, 1200)\n",
    "    learning_rate = trial.suggest_loguniform('learning_rate', 0.001, 0.1)\n",
    "    depth = trial.suggest_int('depth', 4, 10)\n",
    "\n",
    "    model = CatBoostRegressor(iterations=iterations, learning_rate=learning_rate, depth=depth, random_state=RANDOM_STATE, verbose=False)\n",
    "\n",
    "    model.fit(X_train, y_train)\n",
    "    y_pred = model.predict(X_test)\n",
    "\n",
    "    error = mean_absolute_error(y_test, y_pred)\n",
    "\n",
    "    return error\n",
    "\n",
    "study = optuna.create_study(direction='minimize')\n",
    "study.optimize(objective, n_trials=10)\n",
    "\n",
    "print(study.best_params)"
   ]
  },
  {
   "cell_type": "code",
   "execution_count": 34,
   "metadata": {},
   "outputs": [
    {
     "data": {
      "text/plain": [
       "{'iterations': 702, 'learning_rate': 0.03238141057510905, 'depth': 9}"
      ]
     },
     "execution_count": 34,
     "metadata": {},
     "output_type": "execute_result"
    }
   ],
   "source": [
    "#получаю лучшие параметры\n",
    "best_params = study.best_params\n",
    "best_params"
   ]
  },
  {
   "cell_type": "code",
   "execution_count": null,
   "metadata": {},
   "outputs": [],
   "source": [
    "#обучение модели на лучших гиперпараметрах.\n",
    "\n",
    "cbr_model.set_params(**best_params)\n",
    "\n",
    "cbr_model.fit(X_train, y=y_train)"
   ]
  },
  {
   "cell_type": "code",
   "execution_count": 36,
   "metadata": {},
   "outputs": [],
   "source": [
    "#Функция для скоринга модели\n",
    "def evaluate(pipeline, X_test, y_test):\n",
    "    start_time = time.time()\n",
    "    prediction = pipeline.predict(X_test)\n",
    "    end_time = time.time()\n",
    "    prediction_time = end_time - start_time\n",
    "    mean = y_test.mean() \n",
    "    MAE = mean_absolute_error(y_test, prediction)\n",
    "    MSE = mean_squared_error(y_test, prediction)\n",
    "    R2 = r2_score(y_test, prediction)\n",
    "    y_error = y_test - prediction\n",
    "    y_error_abs = abs(y_error)\n",
    "    perc_error_abs = y_error_abs / y_test\n",
    "    mape = perc_error_abs.mean()\n",
    "    \n",
    "    return {\n",
    "        'Среднее значение целевой переменной': mean.round(2),\n",
    "        'Средний модуль ошибки': MAE.round(2),\n",
    "        'Средняя квадратичная ошибка': MSE.round(2),\n",
    "        'Коэффициент детерминации': R2,\n",
    "        'Средняя абсолютная ошибка в процентах': mape.round(2),\n",
    "        'Время предсказания в секундах': prediction_time\n",
    "    }"
   ]
  },
  {
   "cell_type": "code",
   "execution_count": 37,
   "metadata": {},
   "outputs": [
    {
     "data": {
      "text/plain": [
       "{'Среднее значение целевой переменной': 11079136.06,\n",
       " 'Средний модуль ошибки': 1801854.6,\n",
       " 'Средняя квадратичная ошибка': 5005536981141.5,\n",
       " 'Коэффициент детерминации': 0.6285431572842137,\n",
       " 'Средняя абсолютная ошибка в процентах': 0.18,\n",
       " 'Время предсказания в секундах': 0.004262447357177734}"
      ]
     },
     "execution_count": 37,
     "metadata": {},
     "output_type": "execute_result"
    }
   ],
   "source": [
    "sbr_score = evaluate(cbr_model, X_test, y_test)\n",
    "sbr_score"
   ]
  },
  {
   "cell_type": "code",
   "execution_count": 49,
   "metadata": {},
   "outputs": [
    {
     "name": "stderr",
     "output_type": "stream",
     "text": [
      "/home/mle-user/mle_projects/mle-project-sprint-3-v001/.mle-project-sprint-3-v001/lib/python3.10/site-packages/mlflow/types/utils.py:394: UserWarning: Hint: Inferred schema contains integer column(s). Integer columns in Python cannot represent missing values. If your input data contains missing values at inference time, it will be encoded as floats and will cause a schema enforcement error. The best way to avoid this problem is to infer the model schema based on a realistic data sample (training dataset) that includes missing values. Alternatively, you can declare integer columns as doubles (float64) whenever these columns may have missing values. See `Handling Integers With Missing Values <https://www.mlflow.org/docs/latest/models.html#handling-integers-with-missing-values>`_ for more details.\n",
      "  warnings.warn(\n",
      "2024/06/10 07:57:21 WARNING mlflow.utils.requirements_utils: Detected one or more mismatches between the model's dependencies and the current Python environment:\n",
      " - mlflow (current: 2.13.1, required: mlflow==2.7.1)\n",
      " - pandas (current: 2.2.2, required: pandas==2.0.1)\n",
      " - scikit-learn (current: 1.5.0, required: scikit-learn==1.3.1)\n",
      " - scipy (current: 1.13.1, required: scipy==1.11.3)\n",
      "To fix the mismatches, call `mlflow.pyfunc.get_model_dependencies(model_uri)` to fetch the model's environment and install dependencies using the resulting environment file.\n",
      "Successfully registered model 'CBR_model_prod'.\n",
      "2024/06/10 07:57:22 INFO mlflow.store.model_registry.abstract_store: Waiting up to 6 seconds for model version to finish creation. Model name: CBR_model_prod, version 1\n",
      "Created version '1' of model 'CBR_model_prod'.\n"
     ]
    }
   ],
   "source": [
    "#Kогирую модель и артефакты в MLflow\n",
    "\n",
    "experiment = mlflow.get_experiment_by_name(EXPERIMENT_NAME)\n",
    "if experiment is None:\n",
    "    experiment_id = mlflow.create_experiment(EXPERIMENT_NAME)\n",
    "else:\n",
    "    experiment_id = experiment.experiment_id\n",
    "    \n",
    "pip_requirements = '../requirements.txt' \n",
    "input_example = input_example = X_test[:10]\n",
    "metadata = {'model_type': 'monthly'}\n",
    "\n",
    "with mlflow.start_run(run_name=RUN_NAME, experiment_id=experiment_id) as run:\n",
    "    mlflow.sklearn.log_model(cbr_model,artifact_path=\"models\", pip_requirements=pip_requirements,\n",
    "                             input_example=input_example, metadata=metadata,\n",
    "                             registered_model_name=REGISTRY_MODEL_NAME, await_registration_for=6)\n",
    "    # Дополнительные логирования метрик и артефактов\n",
    "    mlflow.log_metrics(sbr_score)\n",
    "    mlflow.log_params(best_params) \n",
    "    mlflow.log_artifact(\"columns.txt\", artifact_path=\"dataframe\")\n",
    "    mlflow.log_artifact(\"flat_cleaned_churn\", artifact_path=\"dataframe\")"
   ]
  },
  {
   "cell_type": "code",
   "execution_count": 50,
   "metadata": {},
   "outputs": [
    {
     "data": {
      "application/vnd.jupyter.widget-view+json": {
       "model_id": "2c5912012e93425597374872108427be",
       "version_major": 2,
       "version_minor": 0
      },
      "text/plain": [
       "Downloading artifacts:   0%|          | 0/10 [00:00<?, ?it/s]"
      ]
     },
     "metadata": {},
     "output_type": "display_data"
    }
   ],
   "source": [
    "#Проверяю доступность модели.\n",
    "model_uri = \"models:/CBR_model_prod/1\"  # Укажите URI вашей модели\n",
    "cbr_model = mlflow.sklearn.load_model(model_uri)"
   ]
  },
  {
   "cell_type": "code",
   "execution_count": 53,
   "metadata": {},
   "outputs": [
    {
     "name": "stdout",
     "output_type": "stream",
     "text": [
      "Модель сохранена в директории: /home/mle-user/mle_projects/mle-project-sprint-3-v001/services/models\n"
     ]
    }
   ],
   "source": [
    "# Сохраняю модель в директории /services/models\n",
    "target_dir = \"/home/mle-user/mle_projects/mle-project-sprint-3-v001/services/models\"\n",
    "\n",
    "os.makedirs(target_dir, exist_ok=True)\n",
    "\n",
    "mlflow.sklearn.save_model(cbr_model, target_dir)\n",
    "\n",
    "print(\"Модель сохранена в директории:\", target_dir)"
   ]
  },
  {
   "cell_type": "markdown",
   "metadata": {},
   "source": []
  }
 ],
 "metadata": {
  "kernelspec": {
   "display_name": ".mle-project-sprint-3-v001",
   "language": "python",
   "name": "python3"
  },
  "language_info": {
   "codemirror_mode": {
    "name": "ipython",
    "version": 3
   },
   "file_extension": ".py",
   "mimetype": "text/x-python",
   "name": "python",
   "nbconvert_exporter": "python",
   "pygments_lexer": "ipython3",
   "version": "3.10.12"
  }
 },
 "nbformat": 4,
 "nbformat_minor": 2
}
